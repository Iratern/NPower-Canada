{
 "cells": [
  {
   "cell_type": "code",
   "execution_count": 1,
   "id": "a859276b-0ce3-4505-a537-be55a7d5727d",
   "metadata": {},
   "outputs": [
    {
     "name": "stdin",
     "output_type": "stream",
     "text": [
      "Please enter a sequence of numbers seperated by commas and press enter: 1,2,35,6,7,8,5,7,123,6899,567\n"
     ]
    },
    {
     "name": "stdout",
     "output_type": "stream",
     "text": [
      "The list corresponding to the numbers you entered is [1, 2, 35, 6, 7, 8, 5, 7, 123, 6899, 567]\n",
      "The tuple corresponding to the numbers you entereed is (1, 2, 35, 6, 7, 8, 5, 7, 123, 6899, 567)\n"
     ]
    }
   ],
   "source": [
    "#function that takes user inputed string of numbers separated by commas and returns a list and a tuple of integers of those numbers\n",
    "def sequence_converter():\n",
    "    \n",
    "    #initialize variables\n",
    "    my_list = []\n",
    "    dummy_tuple = ()\n",
    "    \n",
    "    #ask user for sequence of numbers and convert the string  into a list \n",
    "    sequence_string = input(\"Please enter a sequence of numbers seperated by commas and press enter:\")\n",
    "    dummy_list = sequence_string.split(\",\")\n",
    "    \n",
    "    #for each number in list convert to int type and append to new list \n",
    "    for number in dummy_list:\n",
    "        number = int(number)\n",
    "        my_list.append(number)\n",
    "        \n",
    "    #convert list to a tuple as well\n",
    "    dummy_tuple=tuple(my_list)\n",
    "    \n",
    "    #return list and tuple\n",
    "    return my_list, dummy_tuple\n",
    "\n",
    "#function that takes the outputs of sequence converter and prints them out in a nice manner\n",
    "def list_tuple_printer():\n",
    "    \n",
    "    #store output of sequence_converter to values\n",
    "    values = sequence_converter()\n",
    "    \n",
    "    #define strings with the values \n",
    "    string_1 = \"The list corresponding to the numbers you entered is {}\".format(values[0])\n",
    "    string_2 = \"The tuple corresponding to the numbers you entereed is {}\".format(values[1])\n",
    "    \n",
    "    #print the strings\n",
    "    print(string_1)\n",
    "    print(string_2)\n",
    "\n",
    "#function call\n",
    "list_tuple_printer()"
   ]
  },
  {
   "cell_type": "code",
   "execution_count": 2,
   "id": "0153b852-142f-434b-9db3-d54c32ae63bf",
   "metadata": {},
   "outputs": [
    {
     "name": "stdin",
     "output_type": "stream",
     "text": [
      "Please enter the full filename and press enter: askin.txt\n"
     ]
    },
    {
     "name": "stdout",
     "output_type": "stream",
     "text": [
      ".txt\n"
     ]
    }
   ],
   "source": [
    "#function that takes user inputed filename then prints and returns the extension\n",
    "def extension_printer():\n",
    "    \n",
    "    #initialize empty string and ask for user to input filename with extension\n",
    "    file_name = input(\"Please enter the full filename and press enter:\")\n",
    "    extension = \"\"\n",
    "    \n",
    "    #find index value of \".\" in filename\n",
    "    index = file_name.index(\".\")\n",
    "    \n",
    "    #use index value to slice filename and get extension\n",
    "    extension = file_name[index:]\n",
    "    return extension\n",
    "\n",
    "#print function call output\n",
    "print(extension_printer())"
   ]
  },
  {
   "cell_type": "code",
   "execution_count": 3,
   "id": "6f7365db-4af3-4db4-8923-1587f687e618",
   "metadata": {},
   "outputs": [
    {
     "name": "stdout",
     "output_type": "stream",
     "text": [
      "369\n",
      "369\n"
     ]
    }
   ],
   "source": [
    "#function that takes an int or string \"n\" and computes \"n + nn + nnn\"\n",
    "def fun_computation(n):\n",
    "    \n",
    "    #force the input to be a string\n",
    "    string_n = str(n)\n",
    "    \n",
    "    #force input to be an integer\n",
    "    int_1 = int(n)\n",
    "    \n",
    "    #calculate \"nn\" and \"nnn\" from string_n\n",
    "    int_2 = int(2 * string_n)\n",
    "    int_3 = int(3 * string_n)\n",
    "    \n",
    "    #sum \"n\", \"nn\", and \"nnn\" \n",
    "    my_sum = int_1 + int_2 + int_3\n",
    "    \n",
    "    #return sum\n",
    "    return my_sum\n",
    "\n",
    "#print function call putput on str(3) and int(3)\n",
    "print(fun_computation(\"3\"))\n",
    "print(fun_computation(3))"
   ]
  },
  {
   "cell_type": "code",
   "execution_count": 4,
   "id": "bc562689-1996-4c65-a95b-ca31a9d06d31",
   "metadata": {},
   "outputs": [
    {
     "data": {
      "text/plain": [
       "' 1 a c d f g h j 1'"
      ]
     },
     "execution_count": 4,
     "metadata": {},
     "output_type": "execute_result"
    }
   ],
   "source": [
    "#function that takes a list and converts it into a string with spaces between the list elements\n",
    "def list_to_string(my_list):\n",
    "    \n",
    "    #initialize empty string\n",
    "    my_string = \"\"\n",
    "    \n",
    "    #run through elements in list and concatenate to empy strin\n",
    "    for i in my_list:\n",
    "        i = str(i) #force elements to be str type \n",
    "        my_string = my_string + \" \" + i\n",
    "    return my_string\n",
    "\n",
    "#function call on arbitrary list\n",
    "list_to_string([1,'a','c','d','f','g','h','j','1'])"
   ]
  },
  {
   "cell_type": "code",
   "execution_count": 22,
   "id": "7eb85f09-5cb6-4a88-8c50-73a4982d2708",
   "metadata": {},
   "outputs": [
    {
     "name": "stdout",
     "output_type": "stream",
     "text": [
      "The sum of the values in {1: 40000, 2: 30000, 3: 50000} is 120000\n",
      "The sum of the values in {1: '40000', 2: '30000', 3: '50000'} is 120000\n",
      "The sum of the values in {1: 'abs', 2: 'xyz'} is abs+xyz\n",
      "The sum of the values in {1: 'abs', 2: '12000', 3: '5', 4: 'sxy', 5: 12000, 6: 5}:\n",
      "The sum of the numerics is 24010 \n",
      "The non_numeric string is abs+sxy \n",
      "And the general string is abs+12000+5+sxy+12000+5\n"
     ]
    }
   ],
   "source": [
    "#define dictionaries and master list of dictionaries\n",
    "dict_1 = {1:40000, 2:30000,3:50000}\n",
    "dict_2 = {1:\"40000\", 2:\"30000\", 3:\"50000\"}\n",
    "dict_3 = {1:\"abs\", 2:\"xyz\"}\n",
    "dict_4 = {1:\"abs\",2:\"12000\", 3:\"5\", 4:\"sxy\", 5: 12000,6:5}\n",
    "dict_list = [dict_1, dict_2, dict_3, dict_4]\n",
    "#function that takes a dictionaries and adds/concatenates its values depending on whether they are int or or string\n",
    "def dict_summer(my_dict):\n",
    "    #initialize variables\n",
    "    my_sum = 0\n",
    "    my_string = ''\n",
    "    my_string1 = \"\"\n",
    "    my_list = []\n",
    "    my_list1 = []\n",
    "    #run through values in dictionary \n",
    "    for value in my_dict.values():\n",
    "        #force values to be int type and sum them\n",
    "        try:\n",
    "            value = int(value)\n",
    "            my_sum = my_sum + value\n",
    "        #if values cannot be forced to int type force them to be str type and store them in a list\n",
    "        except ValueError:\n",
    "            value = str(value)\n",
    "            my_list.append(value)\n",
    "    #convert list of strings to a string with + as delimeter\n",
    "    my_string= \"+\".join(my_list)\n",
    "    #if sum is 0 (i.e there were no numbers in dictionary) return string\n",
    "    if my_sum == 0:\n",
    "        return my_string\n",
    "    #if string is empty i.e. there were no non-numbers in dictionary return sum\n",
    "    elif my_string == \"\":\n",
    "        return my_sum\n",
    "    #if both are non-zero/non-empty then return both\n",
    "    else:\n",
    "        for value in my_dict.values():\n",
    "            value = str(value)\n",
    "            my_list1.append(value)\n",
    "        my_string1 = \"+\".join(my_list1)\n",
    "    return my_sum, my_string, my_string1\n",
    "\n",
    "#function that takes in dictionary and prints a nice string using dict_summer to get values \n",
    "def value_printer(my_dict):\n",
    "        value = dict_summer(my_dict)\n",
    "        if type(value) == int or type(value) == str:\n",
    "            string = \"The sum of the values in {} is {}\".format(my_dict, value)\n",
    "            return string\n",
    "        string = \"The sum of the values in {}:\\nThe sum of the numerics is {} \\nThe non_numeric string is {} \\nAnd the general string is {}\".format(my_dict,value[0], value[1], value[2])\n",
    "        return string \n",
    "    \n",
    "#function that takes a list of dictionaries and prints out their values\n",
    "def dict_list_parser(dict_list):\n",
    "    for dictionary in dict_list:\n",
    "        print(value_printer(dictionary))\n",
    "    \n",
    "#call dict_list_parser on dict_list\n",
    "dict_list_parser(dict_list)"
   ]
  },
  {
   "cell_type": "code",
   "execution_count": null,
   "id": "d2514a80-5026-47b6-8951-b724f7c90533",
   "metadata": {},
   "outputs": [],
   "source": []
  }
 ],
 "metadata": {
  "kernelspec": {
   "display_name": "Python 3",
   "language": "python",
   "name": "python3"
  },
  "language_info": {
   "codemirror_mode": {
    "name": "ipython",
    "version": 3
   },
   "file_extension": ".py",
   "mimetype": "text/x-python",
   "name": "python",
   "nbconvert_exporter": "python",
   "pygments_lexer": "ipython3",
   "version": "3.8.5"
  }
 },
 "nbformat": 4,
 "nbformat_minor": 5
}
