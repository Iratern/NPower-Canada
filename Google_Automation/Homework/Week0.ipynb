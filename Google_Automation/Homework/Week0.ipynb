{
 "cells": [
  {
   "cell_type": "code",
   "execution_count": 6,
   "id": "3b45a530-9453-427f-b66f-ca2a0a4c5873",
   "metadata": {},
   "outputs": [
    {
     "data": {
      "text/plain": [
       "78.53981633974483"
      ]
     },
     "execution_count": 6,
     "metadata": {},
     "output_type": "execute_result"
    }
   ],
   "source": [
    "def circ_area(r):\n",
    "    from math import pi as pi\n",
    "    area = pi*r**2\n",
    "    return area\n",
    "circ_area(5)"
   ]
  },
  {
   "cell_type": "code",
   "execution_count": 7,
   "id": "db466b64-ce20-4705-91de-3c899d544743",
   "metadata": {},
   "outputs": [
    {
     "data": {
      "text/plain": [
       "'Askin Ibrahim'"
      ]
     },
     "execution_count": 7,
     "metadata": {},
     "output_type": "execute_result"
    }
   ],
   "source": [
    "def name_switch(first, last):\n",
    "    switched_string = \"{} {}\".format(last, first)\n",
    "    return switched_string\n",
    "name_switch(\"Ibrahim\",\"Askin\")"
   ]
  },
  {
   "cell_type": "code",
   "execution_count": 9,
   "id": "ed0df44a-9dd3-4348-b0be-16037557c361",
   "metadata": {},
   "outputs": [
    {
     "name": "stdout",
     "output_type": "stream",
     "text": [
      "14 12 0\n"
     ]
    }
   ],
   "source": [
    "def dif_17(number):\n",
    "    difference = 17 - number\n",
    "    if number > 17:\n",
    "        difference = 2 * abs(difference)\n",
    "    return difference \n",
    "print(dif_17(24), dif_17(5), dif_17(17))"
   ]
  },
  {
   "cell_type": "code",
   "execution_count": 11,
   "id": "c2d725e0-0852-4047-a41e-621683b910ad",
   "metadata": {},
   "outputs": [
    {
     "name": "stdout",
     "output_type": "stream",
     "text": [
      "False True True True True False\n"
     ]
    }
   ],
   "source": [
    "def number_tester(number):\n",
    "    delta_1 = abs(1000 - number)\n",
    "    delta_2 = abs(2000 - number)\n",
    "    if delta_1 <= 100 or delta_2 <= 100:\n",
    "        return True\n",
    "    return False\n",
    "print(number_tester(1200), number_tester(900), number_tester(1100),\\\n",
    "     number_tester(1900), number_tester(2100), number_tester(2200))"
   ]
  },
  {
   "cell_type": "code",
   "execution_count": 12,
   "id": "b6dcfb3f-9b05-4f8b-8cc8-d4dc21d712c2",
   "metadata": {},
   "outputs": [
    {
     "name": "stdout",
     "output_type": "stream",
     "text": [
      "6 45 14\n"
     ]
    }
   ],
   "source": [
    "def three_summer(x,y,z):\n",
    "    my_sum = x + y + z\n",
    "    if x == y  and y == z:\n",
    "        my_sum = my_sum*3\n",
    "    return my_sum\n",
    "print (three_summer(1,2,3), three_summer(5,5,5), three_summer(4, 5, 5))"
   ]
  },
  {
   "cell_type": "code",
   "execution_count": null,
   "id": "b2e74104-e733-4779-9aed-9991294aa54a",
   "metadata": {},
   "outputs": [],
   "source": []
  }
 ],
 "metadata": {
  "kernelspec": {
   "display_name": "Python 3",
   "language": "python",
   "name": "python3"
  },
  "language_info": {
   "codemirror_mode": {
    "name": "ipython",
    "version": 3
   },
   "file_extension": ".py",
   "mimetype": "text/x-python",
   "name": "python",
   "nbconvert_exporter": "python",
   "pygments_lexer": "ipython3",
   "version": "3.8.5"
  }
 },
 "nbformat": 4,
 "nbformat_minor": 5
}
