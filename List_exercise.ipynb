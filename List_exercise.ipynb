{
 "cells": [
  {
   "cell_type": "code",
   "execution_count": 1,
   "metadata": {},
   "outputs": [],
   "source": [
    "#Q1 Create a tuple with all participant names in the JDA program\n",
    "part_tup=('Joshua','KAMAL', 'Matthew',\"Maisha\",'Master','THE Ibrahim','Hosan','Rose','Aaron','Katherine')\n"
   ]
  },
  {
   "cell_type": "code",
   "execution_count": 4,
   "metadata": {},
   "outputs": [],
   "source": [
    "#Q2 Convert the tuple into a list called pps_L\n",
    "part_list=list(part_tup)"
   ]
  },
  {
   "cell_type": "code",
   "execution_count": 5,
   "metadata": {},
   "outputs": [
    {
     "data": {
      "text/plain": [
       "10"
      ]
     },
     "execution_count": 5,
     "metadata": {},
     "output_type": "execute_result"
    }
   ],
   "source": [
    "#Q3 What is the length of your list \n",
    "len(part_list)"
   ]
  },
  {
   "cell_type": "code",
   "execution_count": 6,
   "metadata": {},
   "outputs": [
    {
     "name": "stdout",
     "output_type": "stream",
     "text": [
      "Maisha THE Ibrahim\n"
     ]
    }
   ],
   "source": [
    "#Q4 Find the values stored in indexes [3],[5],[14],[30],[38]\\\n",
    "print(part_list[3],\n",
    "part_list[5])"
   ]
  },
  {
   "cell_type": "code",
   "execution_count": 27,
   "metadata": {},
   "outputs": [
    {
     "name": "stdout",
     "output_type": "stream",
     "text": [
      "TRUE\n"
     ]
    },
    {
     "data": {
      "text/plain": [
       "['Joshua',\n",
       " 'KAMAL',\n",
       " 'Matthew',\n",
       " 'Maisha',\n",
       " 'Master',\n",
       " 'THE Ibrahim',\n",
       " 'Hosan',\n",
       " 'Rose',\n",
       " 'Aaron',\n",
       " 'Katherine',\n",
       " 'Sarah']"
      ]
     },
     "execution_count": 27,
     "metadata": {},
     "output_type": "execute_result"
    }
   ],
   "source": [
    "#Q5 Check if x is in list y, if not add x to y\n",
    "def my_checker(x,y):\n",
    "    if x in y:\n",
    "        print ('TRUE')\n",
    "    else:\n",
    "        print ('false')\n",
    "        x=str(x)\n",
    "        y.append(x)\n",
    "    return y \n",
    "my_checker('Sarah', part_list)"
   ]
  },
  {
   "cell_type": "code",
   "execution_count": 18,
   "metadata": {},
   "outputs": [],
   "source": [
    "#Q6 Add \"Sarah\" to your list\n",
    "part_list.append('Sarah')\n"
   ]
  },
  {
   "cell_type": "code",
   "execution_count": 19,
   "metadata": {},
   "outputs": [
    {
     "data": {
      "text/plain": [
       "['Joshua',\n",
       " 'KAMAL',\n",
       " 'Matthew',\n",
       " 'Maisha',\n",
       " 'Master',\n",
       " 'THE Ibrahim',\n",
       " 'Hosan',\n",
       " 'Rose',\n",
       " 'Aaron',\n",
       " 'Katherine',\n",
       " 'Sarah']"
      ]
     },
     "execution_count": 19,
     "metadata": {},
     "output_type": "execute_result"
    }
   ],
   "source": [
    "part_list"
   ]
  },
  {
   "cell_type": "code",
   "execution_count": 25,
   "metadata": {},
   "outputs": [
    {
     "name": "stdout",
     "output_type": "stream",
     "text": [
      "false\n"
     ]
    }
   ],
   "source": [
    "#Q7 Check if \"Bashir\" is in the list\n",
    "my_checker(\"Bashir\",part_list)"
   ]
  },
  {
   "cell_type": "code",
   "execution_count": 28,
   "metadata": {},
   "outputs": [
    {
     "name": "stdout",
     "output_type": "stream",
     "text": [
      "false\n"
     ]
    },
    {
     "data": {
      "text/plain": [
       "['Joshua',\n",
       " 'KAMAL',\n",
       " 'Matthew',\n",
       " 'Maisha',\n",
       " 'Master',\n",
       " 'THE Ibrahim',\n",
       " 'Hosan',\n",
       " 'Rose',\n",
       " 'Aaron',\n",
       " 'Katherine',\n",
       " 'Sarah',\n",
       " 'Bashir']"
      ]
     },
     "execution_count": 28,
     "metadata": {},
     "output_type": "execute_result"
    }
   ],
   "source": [
    "my_checker(\"Bashir\", part_list)"
   ]
  },
  {
   "cell_type": "code",
   "execution_count": 30,
   "metadata": {},
   "outputs": [
    {
     "name": "stdout",
     "output_type": "stream",
     "text": [
      "TRUE\n"
     ]
    },
    {
     "data": {
      "text/plain": [
       "['Joshua',\n",
       " 'KAMAL',\n",
       " 'Matthew',\n",
       " 'Maisha',\n",
       " 'Master',\n",
       " 'THE Ibrahim',\n",
       " 'Hosan',\n",
       " 'Rose',\n",
       " 'Aaron',\n",
       " 'Katherine',\n",
       " 'Sarah',\n",
       " 'Bashir']"
      ]
     },
     "execution_count": 30,
     "metadata": {},
     "output_type": "execute_result"
    }
   ],
   "source": [
    "my_checker(\"Bashir\", part_list)"
   ]
  },
  {
   "cell_type": "code",
   "execution_count": 31,
   "metadata": {},
   "outputs": [
    {
     "data": {
      "text/plain": [
       "10"
      ]
     },
     "execution_count": 31,
     "metadata": {},
     "output_type": "execute_result"
    }
   ],
   "source": [
    "#Q10 Find the index of the element \"Sarah\" in the list\n",
    "part_list.index(\"Sarah\")"
   ]
  },
  {
   "cell_type": "code",
   "execution_count": 35,
   "metadata": {},
   "outputs": [
    {
     "data": {
      "text/plain": [
       "['Joshua',\n",
       " 'KAMAL',\n",
       " 'Matthew',\n",
       " 'Maisha',\n",
       " 'Master',\n",
       " 'THE Ibrahim',\n",
       " 'Hosan',\n",
       " 'Rose',\n",
       " 'Aaron',\n",
       " 'Katherine',\n",
       " 'Instructor',\n",
       " 'Bashir']"
      ]
     },
     "execution_count": 35,
     "metadata": {},
     "output_type": "execute_result"
    }
   ],
   "source": [
    "#Q11 Change the value of the index in Q10 from \"Sarah\" to \"Instructor\"\n",
    "part_list[10]=\"Instructor\"\n",
    "part_list"
   ]
  },
  {
   "cell_type": "code",
   "execution_count": 36,
   "metadata": {},
   "outputs": [
    {
     "data": {
      "text/plain": [
       "11"
      ]
     },
     "execution_count": 36,
     "metadata": {},
     "output_type": "execute_result"
    }
   ],
   "source": [
    "#Q12 Find the index of the element \"Bashir\" in the list\n",
    "part_list.index(\"Bashir\")"
   ]
  },
  {
   "cell_type": "code",
   "execution_count": 37,
   "metadata": {},
   "outputs": [
    {
     "data": {
      "text/plain": [
       "['Joshua',\n",
       " 'KAMAL',\n",
       " 'Matthew',\n",
       " 'Maisha',\n",
       " 'Master',\n",
       " 'THE Ibrahim',\n",
       " 'Hosan',\n",
       " 'Rose',\n",
       " 'Aaron',\n",
       " 'Katherine',\n",
       " 'Instructor',\n",
       " 'Peer-Mentor']"
      ]
     },
     "execution_count": 37,
     "metadata": {},
     "output_type": "execute_result"
    }
   ],
   "source": [
    "part_list[11]=\"Peer-Mentor\"\n",
    "part_list"
   ]
  },
  {
   "cell_type": "code",
   "execution_count": null,
   "metadata": {},
   "outputs": [],
   "source": []
  }
 ],
 "metadata": {
  "kernelspec": {
   "display_name": "Python 3",
   "language": "python",
   "name": "python3"
  },
  "language_info": {
   "codemirror_mode": {
    "name": "ipython",
    "version": 3
   },
   "file_extension": ".py",
   "mimetype": "text/x-python",
   "name": "python",
   "nbconvert_exporter": "python",
   "pygments_lexer": "ipython3",
   "version": "3.8.5"
  }
 },
 "nbformat": 4,
 "nbformat_minor": 4
}
