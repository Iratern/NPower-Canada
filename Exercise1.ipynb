{
 "cells": [
  {
   "cell_type": "code",
   "execution_count": 1,
   "metadata": {},
   "outputs": [],
   "source": [
    "\n",
    "def myop (x,y):\n",
    "    z= (x+y)*(x+y)\n",
    "    return z"
   ]
  },
  {
   "cell_type": "code",
   "execution_count": 2,
   "metadata": {},
   "outputs": [],
   "source": [
    "def stringparse(mystring):\n",
    "    if type(mystring) == str:\n",
    "        newtype1 = int(mystring)\n",
    "        print(newtype1)\n",
    "        return(newtype1)\n",
    "    else:\n",
    "        print('invalid entry')"
   ]
  },
  {
   "cell_type": "code",
   "execution_count": 3,
   "metadata": {},
   "outputs": [],
   "source": [
    "def mysummer(N):\n",
    "    #create a for loop instead using sum function\n",
    "    x = sum(range(N+1))\n",
    "    return x\n",
    "        "
   ]
  },
  {
   "cell_type": "code",
   "execution_count": 4,
   "metadata": {},
   "outputs": [],
   "source": [
    "def dumbcon(length):\n",
    "    mile_length = length/5280\n",
    "    inch_length = length*12\n",
    "    yard_length = length/3\n",
    "    print (mile_length,inch_length,yard_length)\n",
    "    return mile_length,inch_length,yard_length\n",
    "    "
   ]
  },
  {
   "cell_type": "code",
   "execution_count": 9,
   "metadata": {},
   "outputs": [],
   "source": [
    "def timeconv():\n",
    "    minute = int(input ('enter the minutes'))\n",
    "    hour = int(input ('enter the hours'))\n",
    "    day = int(input ('enter the days'))\n",
    "    sec_min = minute*60\n",
    "    sec_hour = hour*3600\n",
    "    sec_day = day*3600*24\n",
    "    total_seconds = sec_min + sec_hour + sec_day\n",
    "    print (sec_min, sec_hour, sec_da, total_seconds)\n",
    "    return total_seconds"
   ]
  },
  {
   "cell_type": "code",
   "execution_count": 6,
   "metadata": {},
   "outputs": [],
   "source": [
    "def summer (x,y):\n",
    "    z = x + y\n",
    "    print (x, '+', y, '=', z)\n",
    "    return z"
   ]
  },
  {
   "cell_type": "code",
   "execution_count": 7,
   "metadata": {},
   "outputs": [],
   "source": [
    "def checker(x):\n",
    "    if type(x) == int:\n",
    "        print (type(x))\n",
    "    elif type(x) == str:\n",
    "        print (type(x))\n",
    "    else:\n",
    "        pass"
   ]
  },
  {
   "cell_type": "code",
   "execution_count": 8,
   "metadata": {},
   "outputs": [],
   "source": [
    "def extremafinder(sequence):\n",
    "    i=0\n",
    "    seq=list(sequence)\n",
    "    max_val = seq[0]\n",
    "    min_val = seq[0]\n",
    "    for i in range(len(seq)):\n",
    "        if seq[i] >= max_val:\n",
    "            max_val = seq[i]\n",
    "        elif seq[i] <= min_val:\n",
    "            min_val = seq[i]\n",
    "    return max_val, min_val\n",
    "        \n",
    "        \n",
    "        "
   ]
  },
  {
   "cell_type": "code",
   "execution_count": null,
   "metadata": {},
   "outputs": [],
   "source": []
  }
 ],
 "metadata": {
  "kernelspec": {
   "display_name": "Python 3",
   "language": "python",
   "name": "python3"
  },
  "language_info": {
   "codemirror_mode": {
    "name": "ipython",
    "version": 3
   },
   "file_extension": ".py",
   "mimetype": "text/x-python",
   "name": "python",
   "nbconvert_exporter": "python",
   "pygments_lexer": "ipython3",
   "version": "3.8.5"
  }
 },
 "nbformat": 4,
 "nbformat_minor": 4
}
